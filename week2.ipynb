{
 "cells": [
  {
   "cell_type": "markdown",
   "metadata": {
    "id": "hazStIkOOaYx"
   },
   "source": [
    "In this work, you need to do data processing with some python libraries like Numpy and Pandas. Detail descriptions will be found in the folowing code blocks."
   ]
  },
  {
   "cell_type": "markdown",
   "metadata": {
    "id": "2FTSJYWdbiFT"
   },
   "source": [
    "In this part, you need to follow the instructions and implement the functions with numpy. You should use the following normalize function:\n",
    "\n",
    "$$\n",
    "x_i = \\frac{x_i}{\\sqrt{\\sum_{j=1}x_j^2}}\n",
    "$$"
   ]
  },
  {
   "cell_type": "code",
   "execution_count": 40,
   "metadata": {
    "id": "upFEumqSbtdD"
   },
   "outputs": [],
   "source": [
    "import numpy as np\n",
    "\n",
    "def add(x, y):\n",
    "    \"\"\"A basic add function to add numpy.array or python numbers.\n",
    "    For example: the output of add(5.3, 2) is 7.3.\n",
    "\n",
    "    Parameters\n",
    "    ----------\n",
    "    x: python number or numpy.array\n",
    "    y: python number or numpy.array\n",
    "\n",
    "    Returns\n",
    "    -------\n",
    "    z: python number or numpy.array\n",
    "\n",
    "    \"\"\"\n",
    "    if isinstance(x, np.ndarray) and isinstance(y, np.ndarray): #isinstance(a,b)函数判断a,b是否是同一类型的，其实这里也可以不用判断，统一采用X+Y就行\n",
    "        return x + y\n",
    "    elif isinstance(x, np.ndarray):\n",
    "        return x + y\n",
    "    elif isinstance(y, np.ndarray):\n",
    "        return x + y\n",
    "    else:\n",
    "        return x + y\n"
   ]
  },
  {
   "cell_type": "code",
   "execution_count": 41,
   "metadata": {
    "id": "BmCOeqwkdOWS"
   },
   "outputs": [],
   "source": [
    "import numpy as np\n",
    "\n",
    "def norm(matrix, axis=0):\n",
    "    \"\"\"\n",
    "    A function to normalize a certain dimension of a matrix.\n",
    "    Normalizes matrix such that for each element x_i in the matrix,\n",
    "    x_i = x_i / sqrt(sum_j(x_j^2)) along the specified axis.\n",
    "\n",
    "    Parameters\n",
    "    ----------\n",
    "    matrix : numpy.array\n",
    "        The input matrix of two dimensions.\n",
    "    axis : int\n",
    "        Axis along which normalization is performed.\n",
    "\n",
    "    Returns\n",
    "    -------\n",
    "    numpy.array\n",
    "        The normalized matrix.\n",
    "    \"\"\"\n",
    "    # Calculate the norm (denominator) along the specified axis\n",
    "    norms = np.sqrt(np.sum(matrix**2, axis=axis, keepdims=True))\n",
    "    \n",
    "    # Avoid division by zero\n",
    "    norms[norms == 0] = 1\n",
    "    \n",
    "    # Normalize the matrix\n",
    "    normalized_matrix = matrix / norms\n",
    "    return normalized_matrix\n",
    "\n",
    "\n"
   ]
  },
  {
   "cell_type": "code",
   "execution_count": 85,
   "metadata": {},
   "outputs": [],
   "source": [
    "import pandas as pd\n",
    "import numpy as np\n",
    "\n",
    "\n",
    "def load_data():\n",
    "    \"\"\"Load and preprocess the dataset.\"\"\"\n",
    "    \n",
    "    # 第一步：加载数据集\n",
    "    data = pd.read_csv(\"dataset.csv\")\n",
    "    \n",
    "    # 第二步，移除某行中包含空数据的行或者只含有_的行\n",
    "    data.replace(\"_\",np.nan, inplace=True)\n",
    "    data.dropna(inplace=True)\n",
    "    \n",
    "    # 第三步：处理含有_和数字的地方\n",
    "    data.replace(\"_\", \"\", inplace=True, regex=True)\n",
    "    \n",
    "   \n",
    "   #第四步，计算每一列的平均值，添加到最后一行，为了避免错误，首先先把data转为float类型，方便计算\n",
    "    data = pd.DataFrame(data)\n",
    "    data = data.astype(float)\n",
    "    column_means = data.mean()\n",
    "    data = data.append(column_means, ignore_index=True)\n",
    "  \n",
    "\n",
    "    # 第五步，把处理完的data放大新文件中以供查看\n",
    "    data.to_csv(\"processed_dataset.csv\", index=False, sep=',')\n",
    "    \n",
    "    return data\n"
   ]
  },
  {
   "cell_type": "markdown",
   "metadata": {
    "id": "uxPfLNdgbUDa"
   },
   "source": [
    "Run the following code to get the dataset of this work."
   ]
  },
  {
   "cell_type": "markdown",
   "metadata": {
    "id": "eu30340TfvrS"
   },
   "source": [
    "Try to use pandas to load the dataset \"dataset2.csv\", and process it following the instructrons in docstrings."
   ]
  },
  {
   "cell_type": "markdown",
   "metadata": {
    "id": "WmTdza14i3gr"
   },
   "source": [
    "After you implement these functions, you may run the following code to check your answer."
   ]
  },
  {
   "cell_type": "code",
   "execution_count": 86,
   "metadata": {
    "id": "-bqRtnnPi9Ki"
   },
   "outputs": [],
   "source": [
    "assert add(5,6) == 11\n",
    "assert add(3.2,1.0) == 4.2\n",
    "assert type(add(4., 4)) == float\n",
    "np.testing.assert_allclose(add(np.array([1,2]), np.array([3,4])),\n",
    "                np.array([4,6]))\n",
    "\n",
    "data = np.array([[2, 4, 6], [1, 3, 5], [3, 6, 9]])\n",
    "normalized_data = norm(data, axis=1)\n",
    "assert np.allclose(normalized_data, [[0.26726124, 0.53452248, 0.80178373],\n",
    "                    [0.16903085, 0.50709255, 0.84515425],\n",
    "                    [0.26726124, 0.53452248, 0.80178373]])\n",
    "\n",
    "data = load_data()\n",
    "\n",
    "assert len(data) == 328#（未加平均值之前是327，但是加了绝对值之后会多一行，变成328）\n",
    "\n",
    "assert np.allclose(data.values[-1], [293734.71875, 1.9938838481903076, 29.373088836669922,\n",
    "                      9.994159698486328, 1739.4874267578125, 794.76171875, 388.9890441894531])\n"
   ]
  },
  {
   "cell_type": "code",
   "execution_count": null,
   "metadata": {},
   "outputs": [],
   "source": []
  }
 ],
 "metadata": {
  "colab": {
   "provenance": []
  },
  "kernelspec": {
   "display_name": "Python [conda env:pytorch]",
   "language": "python",
   "name": "conda-env-pytorch-py"
  },
  "language_info": {
   "codemirror_mode": {
    "name": "ipython",
    "version": 3
   },
   "file_extension": ".py",
   "mimetype": "text/x-python",
   "name": "python",
   "nbconvert_exporter": "python",
   "pygments_lexer": "ipython3",
   "version": "3.7.1"
  }
 },
 "nbformat": 4,
 "nbformat_minor": 1
}
