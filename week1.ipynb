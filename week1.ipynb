{
 "cells": [
  {
   "cell_type": "markdown",
   "metadata": {
    "jupyter": {
     "outputs_hidden": false
    }
   },
   "source": [
    "## Week1 Parctice\n",
    "\n",
    "The goal of this work is to give you a quick overview of Python implementations.\n",
    "\n",
    "To get started, **make a copy of this notebook** file by selecting \"Download $\\rightarrow$ Download.ipynb \" from the \"File\" menu, and then check the instructions and finish the work."
   ]
  },
  {
   "cell_type": "markdown",
   "metadata": {
    "id": "QFuguKuszryl"
   },
   "source": [
    "Implement an object \"StudentManager\", and the corresponding functions. You may check the docstring for more details and write your code from \"# Your code here\" to \"# End your code\".\n",
    "\n",
    "**Note:**\n",
    "The average grade can be calculated as follows:\n",
    "\n",
    "$$\n",
    "scores = \\frac{\\sum(credits * grade)}{\\sum(credits)}\n",
    "$$\n"
   ]
  },
  {
   "cell_type": "code",
   "execution_count": 1,
   "metadata": {
    "id": "XOPNzN2W79wr",
    "is_executing": true
   },
   "outputs": [],
   "source": [
    "class StudentManager:\n",
    " def __init__(self):\n",
    "    self.student = []\n",
    " def add_student(self, name, age, courses):\n",
    "    # Your code here\n",
    "    student_info = {\n",
    "            \"name\": name,\n",
    "            \"age\": age,\n",
    "            \"courses\": courses\n",
    "    }\n",
    "    self.student.append(student_info)\n",
    "    # End code here\n",
    "\n",
    " def average_scores(self):\n",
    "    # Your code here\n",
    "    scores = []\n",
    "    for student in self.student:\n",
    "            total_weighted_score = 0\n",
    "            total_credits = 0\n",
    "            for course, details in student['courses'].items():\n",
    "                credits = details[0]\n",
    "                grade = details[1]\n",
    "                total_weighted_score += grade * credits\n",
    "                total_credits += credits\n",
    "            if total_credits == 0:  # 避免total_credits除数为0\n",
    "                average_score = 0\n",
    "            else:\n",
    "                average_score = total_weighted_score / total_credits\n",
    "            scores.append(average_score)\n",
    "    return scores\n",
    "    # End code here\n",
    "\n",
    " def find_students_in_course(self, course_name):\n",
    "        found_students = []\n",
    "        for student in self.student:\n",
    "            if course_name in student['courses']:\n",
    "                found_students.append(student['name'])\n",
    "        return found_students\n"
   ]
  },
  {
   "cell_type": "markdown",
   "metadata": {
    "id": "xNrexWYu5DrO"
   },
   "source": [
    "Now, you have implemented a basic class. Then, you may try the following part, and learn the usage of python class inheritance. You will create another class called \"GraduateStudent\" and inherite the \"StudentManager\" mentioned above. What's more, you need to implement another function described as follows:\n",
    "\n",
    "```python\n",
    "def find_students_in_course(self, course_name):\n",
    "   found_students = []\n",
    "        for student in self.student:\n",
    "            if course_name in student['courses']:\n",
    "                found_students.append(student['name'])\n",
    "        return found_students\n",
    "```"
   ]
  },
  {
   "cell_type": "code",
   "execution_count": 2,
   "metadata": {
    "id": "-3JbuGEQ6xbT"
   },
   "outputs": [],
   "source": [
    "class GraduateStudent(StudentManager):\n",
    "    def __init__(self):\n",
    "        super().__init__()\n",
    "        self.graduate_students = []\n",
    "\n",
    "\n"
   ]
  },
  {
   "cell_type": "markdown",
   "metadata": {
    "id": "ZcPQah0H61Vi"
   },
   "source": [
    "After implementing the classes, you need to test the correctness. Try the following codes and check your answer."
   ]
  },
  {
   "cell_type": "code",
   "execution_count": 3,
   "metadata": {
    "id": "2KsRFsCh7H9a"
   },
   "outputs": [],
   "source": [
    "graduate_manager = GraduateStudent()\n",
    "course = {\n",
    "    \"Math\": [5, 80],\n",
    "    \"Physics\": [3, 76]\n",
    "          }\n",
    "graduate_manager.add_student(\"Alice\", 25, course)\n",
    "course = {\n",
    "    \"Math\": [5, 74],\n",
    "    \"Computer Science\": [2, 92]\n",
    "          }\n",
    "graduate_manager.add_student(\"Bob\", 27, course)\n",
    "course = {\n",
    "    \"Computer Science\": [2, 87]\n",
    "          }\n",
    "graduate_manager.add_student(\"Eve\", 26, course)\n",
    "\n",
    "assert graduate_manager.find_students_in_course(\"Math\") == [\"Alice\", \"Bob\"]\n",
    "import numpy as np\n",
    "assert np.allclose(graduate_manager.average_scores(), [78.5, 79.14285714285714, 87.0])"
   ]
  },
  {
   "cell_type": "code",
   "execution_count": null,
   "metadata": {},
   "outputs": [],
   "source": []
  }
 ],
 "metadata": {
  "accelerator": "GPU",
  "colab": {
   "gpuType": "T4",
   "provenance": []
  },
  "kernelspec": {
   "display_name": "Python 3 (ipykernel)",
   "language": "python",
   "name": "python3"
  },
  "language_info": {
   "codemirror_mode": {
    "name": "ipython",
    "version": 3
   },
   "file_extension": ".py",
   "mimetype": "text/x-python",
   "name": "python",
   "nbconvert_exporter": "python",
   "pygments_lexer": "ipython3",
   "version": "3.9.18"
  }
 },
 "nbformat": 4,
 "nbformat_minor": 4
}
