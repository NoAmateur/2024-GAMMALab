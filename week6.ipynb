{
 "cells": [
  {
   "cell_type": "markdown",
   "metadata": {
    "id": "YqM5Z7qKUgqS"
   },
   "source": [
    "In this week, you are required to implement a toy GATConv and SAGEConv based on document. Also, you need to implement both in PyG and DGL. In this work, you will get a further understanding of tensor-centric in PyG and graph-centric in DGL."
   ]
  },
  {
   "cell_type": "code",
   "execution_count": null,
   "metadata": {
    "id": "xeuAiMpRU719"
   },
   "outputs": [],
   "source": [
    "!pip install  dgl -f https://data.dgl.ai/wheels/repo.html\n",
    "!pip install torch_geometric\n",
    "!pip install pyg_lib torch_scatter torch_sparse torch_cluster torch_spline_conv -f https://data.pyg.org/whl/torch-2.0.1+cpu.html"
   ]
  },
  {
   "cell_type": "code",
   "execution_count": 5,
   "metadata": {
    "id": "mclJkxgsUbRY"
   },
   "outputs": [],
   "source": [
    "import torch\n",
    "import numpy as np\n",
    "import torch.nn as nn\n",
    "import dgl\n",
    "import dgl.function as fn\n",
    "from torch_geometric.nn.conv import MessagePassing\n",
    "from torch_geometric.utils import add_self_loops, softmax\n",
    "class PyG_GATConv(MessagePassing):\n",
    "    def __init__(self, in_channel, out_channel):\n",
    "        super(PyG_GATConv, self).__init__(aggr='add')\n",
    "        self.lin = nn.Linear(in_channel, out_channel, bias=False)\n",
    "        self.att = nn.Parameter(torch.Tensor(1, out_channel))\n",
    "        self.reset_parameters()\n",
    "\n",
    "    def reset_parameters(self):\n",
    "        nn.init.xavier_uniform_(self.lin.weight)\n",
    "        nn.init.xavier_uniform_(self.att)\n",
    "\n",
    "    def forward(self, x, edge_index):\n",
    "        edge_index, _ = add_self_loops(edge_index, num_nodes=x.size(0))\n",
    "        x = self.lin(x)\n",
    "        alpha = (x @ self.att.t()).squeeze(-1)\n",
    "        ptr = torch.arange(x.size(0) + 1, dtype=torch.long, device=edge_index.device)\n",
    "        return self.propagate(edge_index, x=x, alpha=alpha, ptr=ptr)\n",
    "\n",
    "\n",
    "    def message(self, x_j, alpha_j, index, ptr, size_i):\n",
    "        alpha = softmax(alpha_j, index)\n",
    "        return x_j * alpha.view(-1, 1)\n",
    "\n",
    "\n",
    "    def update(self, aggr_out):\n",
    "        return aggr_out\n",
    "\n",
    "\n",
    "class PyG_SAGEConv(MessagePassing):\n",
    "    def __init__(self, in_channels, out_channels):\n",
    "        super(PyG_SAGEConv, self).__init__(aggr='mean')\n",
    "        self.lin = nn.Linear(in_channels, out_channels)  # Set the output dimension of the linear layer\n",
    "        self.update_lin = nn.Linear(in_channels , out_channels)\n",
    "\n",
    "    def forward(self, x, edge_index):\n",
    "        edge_index, _ = add_self_loops(edge_index, num_nodes=x.size(0))\n",
    "        x = self.lin(x)\n",
    "        return self.propagate(edge_index, x=x)\n",
    "\n",
    "    def message(self, x_j):\n",
    "        return x_j\n",
    "\n",
    "    def update(self, aggr_out, x):\n",
    "        combined = torch.cat([x, aggr_out], dim=-1)\n",
    "        return self.update_lin(combined)\n"
   ]
  },
  {
   "cell_type": "code",
   "execution_count": 6,
   "metadata": {
    "id": "HbdLhvBSVYEr"
   },
   "outputs": [],
   "source": [
    "class DGL_GATConv(nn.Module):\n",
    "    def __init__(self, in_channel, out_channel):\n",
    "        super(DGL_GATConv, self).__init__()\n",
    "        self.in_channel = in_channel\n",
    "        self.out_channel = out_channel\n",
    "        self.W = nn.Parameter(torch.Tensor(in_channel, out_channel))\n",
    "        self.att = nn.Parameter(torch.Tensor(1, out_channel))\n",
    "        self.reset_parameters()\n",
    "\n",
    "    def reset_parameters(self):\n",
    "        nn.init.xavier_uniform_(self.W)\n",
    "        nn.init.xavier_uniform_(self.att)\n",
    "\n",
    "    def forward(self, g, h):\n",
    "        with g.local_scope():\n",
    "            h = torch.matmul(h, self.W)\n",
    "            g.ndata['h'] = h\n",
    "            g.ndata['a'] = torch.matmul(h, self.att.t())\n",
    "            g.apply_edges(fn.u_add_v('a', 'a', 'e'))\n",
    "            e = torch.exp(g.edata.pop('e'))\n",
    "            g.edata['a'] = dgl.ops.edge_softmax(g, e)\n",
    "            g.update_all(fn.u_mul_e('h', 'a', 'm'), fn.sum('m', 'h'))\n",
    "            return g.ndata.pop('h')\n",
    "\n",
    "\n",
    "class DGL_SAGEConv(nn.Module):\n",
    "    def __init__(self, in_channel, out_channel):\n",
    "        super(DGL_SAGEConv, self).__init__()\n",
    "        self.in_channel = in_channel\n",
    "        self.out_channel = out_channel\n",
    "        self.W = nn.Linear(in_channel, out_channel)\n",
    "        self.update_lin = nn.Linear(in_channel + out_channel, out_channel)\n",
    "\n",
    "    def forward(self, g, h):\n",
    "        with g.local_scope():\n",
    "            h_in = h\n",
    "            h = self.W(h)\n",
    "            g.ndata['h'] = h\n",
    "            g.update_all(fn.copy_u('h', 'm'), fn.mean('m', 'h'))\n",
    "            h = g.ndata.pop('h')\n",
    "            return self.update_lin(torch.cat([h_in, h], dim=1))"
   ]
  },
  {
   "cell_type": "markdown",
   "metadata": {
    "id": "G955HzNxVjSu"
   },
   "source": [
    "If you want to check your answer, you can run the following code."
   ]
  },
  {
   "cell_type": "code",
   "execution_count": 7,
   "metadata": {
    "id": "PKgfXLyLVwus"
   },
   "outputs": [
    {
     "name": "stdout",
     "output_type": "stream",
     "text": [
      "tensor([[ 0.2320,  0.6226, -0.2256, -0.0852],\n",
      "        [ 0.3480,  0.9339, -0.3384, -0.1278],\n",
      "        [ 0.2320,  0.6226, -0.2256, -0.0852],\n",
      "        [ 0.2320,  0.6226, -0.2256, -0.0852],\n",
      "        [ 0.3480,  0.9339, -0.3384, -0.1278]],\n",
      "       grad_fn=<CppNode<class SegmentSumCSR>>)\n",
      "tensor([[-0.1045, -0.2056, -0.2056, -0.2831],\n",
      "        [-0.1045, -0.2056, -0.2056, -0.2831],\n",
      "        [-0.1045, -0.2056, -0.2056, -0.2831],\n",
      "        [-0.1045, -0.2056, -0.2056, -0.2831],\n",
      "        [-0.1045, -0.2056, -0.2056, -0.2831]], grad_fn=<AddmmBackward>)\n",
      "tensor([[-0.4209, -0.2771,  0.1855,  1.8558],\n",
      "        [ 0.0000,  0.0000,  0.0000,  0.0000],\n",
      "        [-0.4209, -0.2771,  0.1855,  1.8558],\n",
      "        [-0.4209, -0.2771,  0.1855,  1.8558],\n",
      "        [-0.4209, -0.2771,  0.1855,  1.8558]], grad_fn=<GSpMMBackward>)\n",
      "tensor([[ 0.7488, -0.4662, -0.2543,  0.8355],\n",
      "        [ 0.6620, -0.6672,  0.0468,  0.6709],\n",
      "        [ 0.7488, -0.4662, -0.2543,  0.8355],\n",
      "        [ 0.7488, -0.4662, -0.2543,  0.8355],\n",
      "        [ 0.7488, -0.4662, -0.2543,  0.8355]], grad_fn=<AddmmBackward>)\n"
     ]
    }
   ],
   "source": [
    "edge_index = torch.tensor([[0,1,1,2,2,4],[2,0,2,3,4,3]])\n",
    "x = torch.ones((5, 8))\n",
    "conv = PyG_GATConv(8, 4)\n",
    "output = conv(x, edge_index)\n",
    "print(output)\n",
    "conv = PyG_SAGEConv(8, 4)\n",
    "output = conv(x, edge_index)\n",
    "print(output)\n",
    "\n",
    "src = torch.tensor([0, 1, 1, 2, 2, 4])\n",
    "dst = torch.tensor([2, 0, 2, 3, 4, 3])\n",
    "h = torch.ones((5, 8))\n",
    "g = dgl.graph((src, dst))\n",
    "conv = DGL_GATConv(8, 4)\n",
    "output = conv(g, h)\n",
    "print(output)\n",
    "conv = DGL_SAGEConv(8, 4)\n",
    "output = conv(g, h)\n",
    "print(output)"
   ]
  },
  {
   "cell_type": "code",
   "execution_count": null,
   "metadata": {},
   "outputs": [],
   "source": []
  }
 ],
 "metadata": {
  "colab": {
   "provenance": []
  },
  "kernelspec": {
   "display_name": "Python [conda env:PyG]",
   "language": "python",
   "name": "conda-env-PyG-py"
  },
  "language_info": {
   "codemirror_mode": {
    "name": "ipython",
    "version": 3
   },
   "file_extension": ".py",
   "mimetype": "text/x-python",
   "name": "python",
   "nbconvert_exporter": "python",
   "pygments_lexer": "ipython3",
   "version": "3.8.19"
  }
 },
 "nbformat": 4,
 "nbformat_minor": 1
}
